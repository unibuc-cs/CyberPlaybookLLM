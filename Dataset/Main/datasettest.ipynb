{
 "cells": [
  {
   "metadata": {},
   "cell_type": "raw",
   "source": "",
   "id": "3be6ce922391c325"
  },
  {
   "metadata": {},
   "cell_type": "markdown",
   "source": "## Load model with PEFT",
   "id": "2fe9ddcb3e69bca8"
  },
  {
   "metadata": {
    "ExecuteTime": {
     "end_time": "2025-04-17T17:04:30.749288Z",
     "start_time": "2025-04-17T16:40:58.812065Z"
    }
   },
   "cell_type": "code",
   "outputs": [
    {
     "data": {
      "text/plain": [
       "tokenizer_config.json:   0%|          | 0.00/55.4k [00:00<?, ?B/s]"
      ],
      "application/vnd.jupyter.widget-view+json": {
       "version_major": 2,
       "version_minor": 0,
       "model_id": "6c704c92ffe7443e85052ddc9e3cfc36"
      }
     },
     "metadata": {},
     "output_type": "display_data"
    },
    {
     "data": {
      "text/plain": [
       "tokenizer.json:   0%|          | 0.00/9.09M [00:00<?, ?B/s]"
      ],
      "application/vnd.jupyter.widget-view+json": {
       "version_major": 2,
       "version_minor": 0,
       "model_id": "2969cb573cf441019f0c389c14107fb5"
      }
     },
     "metadata": {},
     "output_type": "display_data"
    },
    {
     "data": {
      "text/plain": [
       "special_tokens_map.json:   0%|          | 0.00/296 [00:00<?, ?B/s]"
      ],
      "application/vnd.jupyter.widget-view+json": {
       "version_major": 2,
       "version_minor": 0,
       "model_id": "12961ec88ae243068d2fb16bb4ead1aa"
      }
     },
     "metadata": {},
     "output_type": "display_data"
    },
    {
     "data": {
      "text/plain": [
       "config.json:   0%|          | 0.00/855 [00:00<?, ?B/s]"
      ],
      "application/vnd.jupyter.widget-view+json": {
       "version_major": 2,
       "version_minor": 0,
       "model_id": "762eefa6c02b4e7685ed221b13166412"
      }
     },
     "metadata": {},
     "output_type": "display_data"
    },
    {
     "data": {
      "text/plain": [
       "model.safetensors.index.json:   0%|          | 0.00/23.9k [00:00<?, ?B/s]"
      ],
      "application/vnd.jupyter.widget-view+json": {
       "version_major": 2,
       "version_minor": 0,
       "model_id": "f96f8e1fdfd14c4ab6424d9e9de86caa"
      }
     },
     "metadata": {},
     "output_type": "display_data"
    },
    {
     "data": {
      "text/plain": [
       "Fetching 4 files:   0%|          | 0/4 [00:00<?, ?it/s]"
      ],
      "application/vnd.jupyter.widget-view+json": {
       "version_major": 2,
       "version_minor": 0,
       "model_id": "746075239a4c4fc9bcb6e2acd9fe9746"
      }
     },
     "metadata": {},
     "output_type": "display_data"
    },
    {
     "data": {
      "text/plain": [
       "model-00004-of-00004.safetensors:   0%|          | 0.00/1.17G [00:00<?, ?B/s]"
      ],
      "application/vnd.jupyter.widget-view+json": {
       "version_major": 2,
       "version_minor": 0,
       "model_id": "f232488f71ce441ab8005ef539cb60ab"
      }
     },
     "metadata": {},
     "output_type": "display_data"
    },
    {
     "data": {
      "text/plain": [
       "model-00002-of-00004.safetensors:   0%|          | 0.00/5.00G [00:00<?, ?B/s]"
      ],
      "application/vnd.jupyter.widget-view+json": {
       "version_major": 2,
       "version_minor": 0,
       "model_id": "32a1124577354667a0bcb95fd88d94ee"
      }
     },
     "metadata": {},
     "output_type": "display_data"
    },
    {
     "data": {
      "text/plain": [
       "model-00003-of-00004.safetensors:   0%|          | 0.00/4.92G [00:00<?, ?B/s]"
      ],
      "application/vnd.jupyter.widget-view+json": {
       "version_major": 2,
       "version_minor": 0,
       "model_id": "5c04bcfe1b514cb398c5cf5b8027aeaf"
      }
     },
     "metadata": {},
     "output_type": "display_data"
    },
    {
     "data": {
      "text/plain": [
       "model-00001-of-00004.safetensors:   0%|          | 0.00/4.98G [00:00<?, ?B/s]"
      ],
      "application/vnd.jupyter.widget-view+json": {
       "version_major": 2,
       "version_minor": 0,
       "model_id": "a8b89650a1324153b9c7b530724bbf1b"
      }
     },
     "metadata": {},
     "output_type": "display_data"
    },
    {
     "data": {
      "text/plain": [
       "Loading checkpoint shards:   0%|          | 0/4 [00:00<?, ?it/s]"
      ],
      "application/vnd.jupyter.widget-view+json": {
       "version_major": 2,
       "version_minor": 0,
       "model_id": "3c215e2f265f4e6eb86b539641343149"
      }
     },
     "metadata": {},
     "output_type": "display_data"
    },
    {
     "data": {
      "text/plain": [
       "generation_config.json:   0%|          | 0.00/184 [00:00<?, ?B/s]"
      ],
      "application/vnd.jupyter.widget-view+json": {
       "version_major": 2,
       "version_minor": 0,
       "model_id": "f0a13850f4864215861d506ebd8e62d5"
      }
     },
     "metadata": {},
     "output_type": "display_data"
    },
    {
     "name": "stdout",
     "output_type": "stream",
     "text": [
      "trainable params: 3,407,872 || all params: 8,033,669,120 || trainable%: 0.0424\n"
     ]
    }
   ],
   "execution_count": 2,
   "source": [
    "from transformers import AutoTokenizer, AutoModelForCausalLM\n",
    "from peft import get_peft_model, LoraConfig, TaskType\n",
    "\n",
    "LOAD_IN_BITS = False  # Set to True if you want to load in 8/4 bits\n",
    "\n",
    "model_name = \"meta-llama/Llama-3.1-8B-Instruct\"\n",
    "tokenizer = AutoTokenizer.from_pretrained(model_name, use_fast=True)\n",
    "\n",
    "#### Load in 8/4 bits if needed only\n",
    "if LOAD_IN_BITS:\n",
    "    model = AutoModelForCausalLM.from_pretrained(\n",
    "        model_name,\n",
    "        load_in_8bit=True,  # or load_in_4bit=True\n",
    "        device_map=\"auto\"\n",
    "    )\n",
    "\n",
    "lora_config = LoraConfig(\n",
    "    r=8,\n",
    "    lora_alpha=32,\n",
    "    target_modules=[\"q_proj\", \"v_proj\"],  # may vary with model\n",
    "    lora_dropout=0.05,\n",
    "    bias=\"none\",\n",
    "    task_type=TaskType.CAUSAL_LM\n",
    ")\n",
    "\n",
    "model = get_peft_model(model, lora_config)\n",
    "model.print_trainable_parameters()\n",
    "\n"
   ],
   "id": "4f3189c755c1e252"
  },
  {
   "metadata": {},
   "cell_type": "markdown",
   "source": "## Set up data format for training",
   "id": "5f47f8aff16b48cc"
  },
  {
   "metadata": {
    "ExecuteTime": {
     "end_time": "2025-04-18T08:33:30.568841Z",
     "start_time": "2025-04-18T08:33:30.182810Z"
    }
   },
   "cell_type": "code",
   "source": [
    "from datasets import Dataset\n",
    "from transformers import AutoTokenizer, AutoModelForCausalLM, Trainer, TrainingArguments\n",
    "from peft import get_peft_model, LoraConfig, TaskType\n",
    "import json\n",
    "import json\n",
    "import datasets\n",
    "\n",
    "# === Load and flatten dataset ===\n",
    "def load_flat_json(path):\n",
    "    with open(path, \"r\", encoding=\"utf-8\") as f:\n",
    "        raw = json.load(f)\n",
    "    return [list(e.values())[0] for e in raw]\n",
    "\n",
    "# === Format dataset into prompt + completion style ===\n",
    "def format_for_completion(example):\n",
    "    incident = example.get(\"incident_description\", \"\")\n",
    "    logs = example.get(\"attack_logs\", [])\n",
    "    mitigations = example.get(\"ground_truth_mitigations\", [])\n",
    "    playbook = example.get(\"playbook\", {})\n",
    "\n",
    "    logs_text = \"\\n\".join([\n",
    "        f\"- [{log['timestamp']}] {log['host']}: {log['action']} — {log['details']}\"\n",
    "        for log in logs if all(k in log for k in [\"timestamp\", \"host\", \"action\", \"details\"])\n",
    "    ])\n",
    "\n",
    "    mitig_text = \"\\n\".join(mitigations)\n",
    "    playbook_text = json.dumps(playbook, indent=2)\n",
    "\n",
    "    full_text = f\"\"\"### Incident:\n",
    "{incident}\n",
    "\n",
    "### Logs:\n",
    "{logs_text}\n",
    "\n",
    "### Predicted Mitigations:\n",
    "{mitig_text}\n",
    "\n",
    "### Generated CACAO Playbook:\n",
    "{playbook_text}\"\"\"\n",
    "\n",
    "    return {\"text\": full_text}\n",
    "\n",
    "# === Tokenizer and label masking ===\n",
    "def tokenize_with_labels(example):\n",
    "    tokens = tokenizer(example[\"text\"], truncation=True, padding=\"max_length\", max_length=2048)\n",
    "    input_ids = tokens[\"input_ids\"]\n",
    "\n",
    "    # Find where target starts\n",
    "    target_start = example[\"text\"].find(\"### Predicted Mitigations:\")\n",
    "    if target_start == -1:\n",
    "        target_start = 0\n",
    "\n",
    "    prompt_ids = tokenizer(example[\"text\"][:target_start], truncation=True, max_length=2048)[\"input_ids\"]\n",
    "    prompt_len = len(prompt_ids)\n",
    "\n",
    "    labels = input_ids.copy()\n",
    "    labels[:prompt_len] = [-100] * prompt_len\n",
    "\n",
    "    tokens[\"labels\"] = labels\n",
    "    return tokens\n",
    "\n",
    "# === Load and preprocess dataset ===\n",
    "train_raw = load_flat_json(\"Dataset/Main/dataset_merged_train.json\")\n",
    "val_raw = load_flat_json(\"Dataset/Main/dataset_merged_val.json\")\n",
    "\n",
    "train_dataset = Dataset.from_list([format_for_completion(e) for e in train_raw])\n",
    "val_dataset = Dataset.from_list([format_for_completion(e) for e in val_raw])\n",
    "\n",
    "train_dataset = train_dataset.map(tokenize_with_labels)\n",
    "val_dataset = val_dataset.map(tokenize_with_labels)\n"
   ],
   "id": "3cbe289615b34fc0",
   "outputs": [
    {
     "ename": "FileNotFoundError",
     "evalue": "[Errno 2] No such file or directory: 'Dataset/Main/dataset_merged_train.json'",
     "output_type": "error",
     "traceback": [
      "\u001B[31m---------------------------------------------------------------------------\u001B[39m",
      "\u001B[31mFileNotFoundError\u001B[39m                         Traceback (most recent call last)",
      "\u001B[36mCell\u001B[39m\u001B[36m \u001B[39m\u001B[32mIn[4]\u001B[39m\u001B[32m, line 63\u001B[39m\n\u001B[32m     60\u001B[39m     \u001B[38;5;28;01mreturn\u001B[39;00m tokens\n\u001B[32m     62\u001B[39m \u001B[38;5;66;03m# === Load and preprocess dataset ===\u001B[39;00m\n\u001B[32m---> \u001B[39m\u001B[32m63\u001B[39m train_raw = \u001B[43mload_flat_json\u001B[49m\u001B[43m(\u001B[49m\u001B[33;43m\"\u001B[39;49m\u001B[33;43mDataset/Main/dataset_merged_train.json\u001B[39;49m\u001B[33;43m\"\u001B[39;49m\u001B[43m)\u001B[49m\n\u001B[32m     64\u001B[39m val_raw = load_flat_json(\u001B[33m\"\u001B[39m\u001B[33mDataset/Main/dataset_merged_val.json\u001B[39m\u001B[33m\"\u001B[39m)\n\u001B[32m     66\u001B[39m train_dataset = Dataset.from_list([format_for_completion(e) \u001B[38;5;28;01mfor\u001B[39;00m e \u001B[38;5;129;01min\u001B[39;00m train_raw])\n",
      "\u001B[36mCell\u001B[39m\u001B[36m \u001B[39m\u001B[32mIn[4]\u001B[39m\u001B[32m, line 10\u001B[39m, in \u001B[36mload_flat_json\u001B[39m\u001B[34m(path)\u001B[39m\n\u001B[32m      9\u001B[39m \u001B[38;5;28;01mdef\u001B[39;00m\u001B[38;5;250m \u001B[39m\u001B[34mload_flat_json\u001B[39m(path):\n\u001B[32m---> \u001B[39m\u001B[32m10\u001B[39m     \u001B[38;5;28;01mwith\u001B[39;00m \u001B[38;5;28;43mopen\u001B[39;49m\u001B[43m(\u001B[49m\u001B[43mpath\u001B[49m\u001B[43m,\u001B[49m\u001B[43m \u001B[49m\u001B[33;43m\"\u001B[39;49m\u001B[33;43mr\u001B[39;49m\u001B[33;43m\"\u001B[39;49m\u001B[43m,\u001B[49m\u001B[43m \u001B[49m\u001B[43mencoding\u001B[49m\u001B[43m=\u001B[49m\u001B[33;43m\"\u001B[39;49m\u001B[33;43mutf-8\u001B[39;49m\u001B[33;43m\"\u001B[39;49m\u001B[43m)\u001B[49m \u001B[38;5;28;01mas\u001B[39;00m f:\n\u001B[32m     11\u001B[39m         raw = json.load(f)\n\u001B[32m     12\u001B[39m     \u001B[38;5;28;01mreturn\u001B[39;00m [\u001B[38;5;28mlist\u001B[39m(e.values())[\u001B[32m0\u001B[39m] \u001B[38;5;28;01mfor\u001B[39;00m e \u001B[38;5;129;01min\u001B[39;00m raw]\n",
      "\u001B[36mFile \u001B[39m\u001B[32m~/.local/lib/python3.12/site-packages/IPython/core/interactiveshell.py:326\u001B[39m, in \u001B[36m_modified_open\u001B[39m\u001B[34m(file, *args, **kwargs)\u001B[39m\n\u001B[32m    319\u001B[39m \u001B[38;5;28;01mif\u001B[39;00m file \u001B[38;5;129;01min\u001B[39;00m {\u001B[32m0\u001B[39m, \u001B[32m1\u001B[39m, \u001B[32m2\u001B[39m}:\n\u001B[32m    320\u001B[39m     \u001B[38;5;28;01mraise\u001B[39;00m \u001B[38;5;167;01mValueError\u001B[39;00m(\n\u001B[32m    321\u001B[39m         \u001B[33mf\u001B[39m\u001B[33m\"\u001B[39m\u001B[33mIPython won\u001B[39m\u001B[33m'\u001B[39m\u001B[33mt let you open fd=\u001B[39m\u001B[38;5;132;01m{\u001B[39;00mfile\u001B[38;5;132;01m}\u001B[39;00m\u001B[33m by default \u001B[39m\u001B[33m\"\u001B[39m\n\u001B[32m    322\u001B[39m         \u001B[33m\"\u001B[39m\u001B[33mas it is likely to crash IPython. If you know what you are doing, \u001B[39m\u001B[33m\"\u001B[39m\n\u001B[32m    323\u001B[39m         \u001B[33m\"\u001B[39m\u001B[33myou can use builtins\u001B[39m\u001B[33m'\u001B[39m\u001B[33m open.\u001B[39m\u001B[33m\"\u001B[39m\n\u001B[32m    324\u001B[39m     )\n\u001B[32m--> \u001B[39m\u001B[32m326\u001B[39m \u001B[38;5;28;01mreturn\u001B[39;00m \u001B[43mio_open\u001B[49m\u001B[43m(\u001B[49m\u001B[43mfile\u001B[49m\u001B[43m,\u001B[49m\u001B[43m \u001B[49m\u001B[43m*\u001B[49m\u001B[43margs\u001B[49m\u001B[43m,\u001B[49m\u001B[43m \u001B[49m\u001B[43m*\u001B[49m\u001B[43m*\u001B[49m\u001B[43mkwargs\u001B[49m\u001B[43m)\u001B[49m\n",
      "\u001B[31mFileNotFoundError\u001B[39m: [Errno 2] No such file or directory: 'Dataset/Main/dataset_merged_train.json'"
     ]
    }
   ],
   "execution_count": 4
  },
  {
   "metadata": {},
   "cell_type": "markdown",
   "source": "## Tokenize with labels",
   "id": "78b83b6f679e410f"
  },
  {
   "metadata": {},
   "cell_type": "markdown",
   "source": "Set up HF Trainer",
   "id": "bc257c75404bc8c5"
  },
  {
   "metadata": {},
   "cell_type": "code",
   "outputs": [],
   "execution_count": null,
   "source": [
    "from transformers import Trainer, TrainingArguments\n",
    "\n",
    "training_args = TrainingArguments(\n",
    "    output_dir=\"./llama3-cacao-checkpoints\",\n",
    "    per_device_train_batch_size=1,\n",
    "    per_device_eval_batch_size=1,\n",
    "    gradient_accumulation_steps=4,\n",
    "    learning_rate=2e-5,\n",
    "    num_train_epochs=3,\n",
    "    logging_dir=\"./logs\",\n",
    "    logging_steps=10,\n",
    "    save_steps=500,\n",
    "    evaluation_strategy=\"steps\",\n",
    "    eval_steps=500,\n",
    "    fp16=True,  # or bf16=True\n",
    "    save_total_limit=2,\n",
    "    report_to=\"none\",\n",
    ")\n",
    "\n",
    "trainer = Trainer(\n",
    "    model=model,\n",
    "    args=training_args,\n",
    "    train_dataset=train_dataset,\n",
    "    eval_dataset=val_dataset,\n",
    "    tokenizer=tokenizer,\n",
    ")\n"
   ],
   "id": "fd16cbc98f84822"
  },
  {
   "metadata": {},
   "cell_type": "markdown",
   "source": "",
   "id": "174349c911a44ac4"
  }
 ],
 "metadata": {
  "kernelspec": {
   "display_name": "Python 3",
   "language": "python",
   "name": "python3"
  },
  "language_info": {
   "codemirror_mode": {
    "name": "ipython",
    "version": 2
   },
   "file_extension": ".py",
   "mimetype": "text/x-python",
   "name": "python",
   "nbconvert_exporter": "python",
   "pygments_lexer": "ipython2",
   "version": "2.7.6"
  }
 },
 "nbformat": 4,
 "nbformat_minor": 5
}
